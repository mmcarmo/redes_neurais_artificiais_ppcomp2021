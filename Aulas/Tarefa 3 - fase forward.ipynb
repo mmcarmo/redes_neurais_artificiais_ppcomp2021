{
 "cells": [
  {
   "cell_type": "markdown",
   "metadata": {},
   "source": [
    "# ________________________________________\n",
    "# Tarefa 3 - Implementação da fase forward MLP\n",
    "# ________________________________________"
   ]
  },
  {
   "cell_type": "code",
   "execution_count": 2,
   "metadata": {},
   "outputs": [
    {
     "data": {
      "text/plain": [
       "('1.21.5', '1.4.1', '1.0.2')"
      ]
     },
     "execution_count": 2,
     "metadata": {},
     "output_type": "execute_result"
    }
   ],
   "source": [
    "import numpy as np\n",
    "import pandas as pd\n",
    "import sklearn as sklearn\n",
    "import matplotlib.pyplot as plt\n",
    "from sklearn.base import BaseEstimator,ClassifierMixin\n",
    "from sklearn.datasets import make_blobs\n",
    "from sklearn.model_selection import train_test_split\n",
    "import random\n",
    "\n",
    "DEBUG = 'DEBUG'\n",
    "\n",
    "np.__version__,pd.__version__,sklearn.__version__"
   ]
  },
  {
   "cell_type": "code",
   "execution_count": 3,
   "metadata": {},
   "outputs": [],
   "source": [
    "def criaDataset(n=20,slop=[2,1],intercept=-0.4):\n",
    "  X = np.random.uniform(size=(n,2))\n",
    "  AUX = np.multiply(X,slop) - [0,intercept]\n",
    "  y = (AUX[:,0] > AUX[:,1])*2 -1\n",
    "  return X,y\n",
    "\n",
    "def criaDatasetBlobs(n=1000,n_classes=4,std=0.02):\n",
    "  X,y = make_blobs(n_samples=n,centers=n_classes,center_box=(0,1.0),cluster_std=0.02)\n",
    "  return X,y\n",
    "\n",
    "def criaDatasetXOR(n=100):\n",
    "  X,y = make_blobs(n_samples=n,centers=[[0,0],[1,0],[1,1],[0,1]],cluster_std=0.1)\n",
    "  y =np.array(y%2,dtype=int)\n",
    "  return X,y\n",
    "\n",
    "def criaDatasetNBlobsXOR(n=1000,n_classes=3,std=0.8):\n",
    "  X,y = make_blobs(n_samples=n,centers=n_classes*2,cluster_std=std)\n",
    "  y = np.array(y%n_classes,dtype=int)\n",
    "  return X,y\n",
    "\n",
    "def plotDataset(X,y):\n",
    "  plt.xlabel('X1')\n",
    "  plt.ylabel('X2')\n",
    "  for k in set(y):\n",
    "    plt.plot(X[:,0][y==k],\n",
    "             X[:,1][y==k],\n",
    "             \"o\",alpha=0.3)"
   ]
  },
  {
   "cell_type": "code",
   "execution_count": 4,
   "metadata": {},
   "outputs": [],
   "source": [
    "def define_axes(X,margin=0.1):\n",
    "  min1,max1 = X[:,0].min(), X[:,0].max()\n",
    "  min2,max2 = X[:,1].min(), X[:,1].max()\n",
    "  return [min1 -margin, max1 +margin,min2 -margin,max2 +margin]\n",
    "\n",
    "    \n",
    "\n",
    "def plotPredictions(clf,X,dims=[0,1]):\n",
    "  axes = define_axes(X)\n",
    "  x0s = np.linspace(axes[0],axes[1],100)\n",
    "  x1s = np.linspace(axes[2],axes[3],100)\n",
    "  x0,x1 = np.meshgrid(x0s,x1s)\n",
    "  X_ = np.c_[x0.ravel(),x1.ravel()]\n",
    "  print(DEBUG,X_.shape)\n",
    "  ypred = clf.predict(X_).reshape(x0.shape)\n",
    "  print(DEBUG,X_.shape,x0.shape,x1.shape,ypred.shape)\n",
    "  plt.contourf(x0,x1,ypred,cmap=plt.cm.brg,alpha=0.2)"
   ]
  },
  {
   "cell_type": "code",
   "execution_count": 84,
   "metadata": {},
   "outputs": [],
   "source": [
    "from abc import ABC, abstractmethod,abstractstaticmethod\n",
    "from scipy.special import expit\n",
    "from sklearn.preprocessing import label_binarize\n",
    "\n",
    "def sign(a):\n",
    "  return (a>=0)*2-1\n",
    "\n",
    "def tanh(a):\n",
    "  return expit(a)*2 -1\n",
    "\n",
    "#tanh = lambda a: expit(a)*2 -1\n",
    "\n",
    "def accuracy(yactual,ypred):\n",
    "  return sum(yactual==ypred)/len(yactual)\n",
    "\n",
    "\n",
    "class TrainingAlgorithm(ABC):\n",
    "  \n",
    "  @abstractmethod\n",
    "  def getW(self,X,y):\n",
    "    pass\n",
    "\n",
    "class PseudoInversaReg(TrainingAlgorithm):\n",
    "  def __init__(self,regularization=0,history=[0]):\n",
    "    self.history = history\n",
    "    self.regularization = regularization\n",
    "    \n",
    "  def getW(self,X,y):\n",
    "    w = np.linalg.inv(X.T @ X + np.identity(X.shape[1])*self.regularization) @ X.T @ y\n",
    "    return w\n",
    "\n",
    "class ELM(BaseEstimator,ClassifierMixin):\n",
    "  def __init__ (self,n_hidden=10,regularization=0):\n",
    "    self.n_hidden=n_hidden\n",
    "    self.regularization = regularization\n",
    "    self.activation = tanh\n",
    "    self.training_algorithm = PseudoInversaReg(regularization=regularization)\n",
    "    self.wih = None\n",
    "    self.who = None\n",
    "  \n",
    "  def encode_labels(self,y):\n",
    "    self.labels = list(set(y))\n",
    "    return label_binarize(y,classes=self.labels)*2 -1\n",
    "  \n",
    "  def fit(self,X,y):\n",
    "    Xb = ELM.includeBias(X)\n",
    "    self.wih = np.random.uniform(-1,1,size=(Xb.shape[1],self.n_hidden)) #-1 a 1 com threshold em 0\n",
    "    print(DEBUG,  Xb.shape, self.wih.shape)\n",
    "    H = self.activation(Xb @ self.wih)\n",
    "    Hb = ELM.includeBias(H)\n",
    "    #yhot = self.encode_labels(y)\n",
    "    self.who = self.training_algorithm.getW(Hb,y)#yhot)  \n",
    "\n",
    "    return self\n",
    "  \n",
    "  def predict(self,X,y=None):\n",
    "    Xb = ELM.includeBias(X)\n",
    "    print(DEBUG,  Xb.shape, self.wih.shape)\n",
    "    H = self.activation(Xb @ self.wih)\n",
    "    Hb = ELM.includeBias(H)\n",
    "    a = Hb @ self.who\n",
    "    return a\n",
    "    \n",
    "\n",
    "  @staticmethod\n",
    "  def includeBias(X):\n",
    "    bias = np.ones((X.shape[0],1))\n",
    "    #print(\"DEBUG: \",X.shape,bias)\n",
    "    Xb = np.concatenate((bias,X),axis=1)\n",
    "    #print(\"DEBUG: \",Xb.shape)\n",
    "    return Xb\n",
    "\n",
    "class FixedWeigths():\n",
    "  def __init__(self):\n",
    "    self.n_hidden = 2\n",
    "    self.activation = tanh\n",
    "    self.training = PseudoInversaReg()\n",
    "  \n",
    "  def fit(self,X,y):\n",
    "    # Definição manual de pesos\n",
    "    self.wih = np.array([[1,0.9,-0.9],[-1,0.9,-0.9]]).T\n",
    "    self.who = np.array([[ 11,-13, 12]]).T\n",
    "\n",
    "    # Treino somenete da ultima camanda\n",
    "    #H = self.activation(FixedWeigths.includeBias(X) @ self.wih)\n",
    "    #Hb = FixedWeigths.includeBias(H) \n",
    "    #self.who = self.training.getW(Hb,y)\n",
    "    #print(DEBUG,self.who)\n",
    "    return self\n",
    "  \n",
    "  def predict(self,X,y=None):\n",
    "    Xb = FixedWeigths.includeBias(X)\n",
    "    H = self.activation(Xb @ self.wih)\n",
    "    Hb = FixedWeigths.includeBias(H)\n",
    "    return Hb @ self.who\n",
    "  \n",
    "  @staticmethod\n",
    "  def includeBias(X):\n",
    "    bias = np.ones((X.shape[0],1))\n",
    "    #print(\"DEBUG: \",X.shape,bias)\n",
    "    Xb = np.concatenate((bias,X),axis=1)\n",
    "    #print(\"DEBUG: \",Xb.shape)\n",
    "    return Xb\n",
    "\n",
    "class MLP(BaseEstimator,ClassifierMixin):\n",
    "  def __init__ (self,algorithm=FixedWeigths()):\n",
    "    self.algorithm = algorithm\n",
    "  \n",
    "  def encode_labels(self,y):\n",
    "    self.labels = list(set(y))\n",
    "    return label_binarize(y,classes=self.labels)*2 -1\n",
    "  \n",
    "  def fit(self,X,y):\n",
    "    yhot = self.encode_labels(y)\n",
    "    self.algorithm.fit(X,yhot)\n",
    "    return self\n",
    "  \n",
    "  def predict(self,X,y=None):\n",
    "    a = self.algorithm.predict(X,y)\n",
    "    \n",
    "    if len(self.labels) <= 2:\n",
    "      idx = np.array(a>0,dtype=int).reshape((-1,))\n",
    "    else:\n",
    "      idx = np.argmax(a,axis=1)\n",
    "\n",
    "    ypred = np.array([self.labels[i] for i in idx])\n",
    "    return ypred  \n"
   ]
  },
  {
   "cell_type": "code",
   "execution_count": 85,
   "metadata": {},
   "outputs": [],
   "source": [
    "Xtr,ytr = criaDatasetXOR(4)"
   ]
  },
  {
   "cell_type": "code",
   "execution_count": 86,
   "metadata": {},
   "outputs": [
    {
     "name": "stdout",
     "output_type": "stream",
     "text": [
      "DEBUG (10000, 2)\n",
      "DEBUG (10000, 2) (100, 100) (100, 100) (100, 100)\n"
     ]
    },
    {
     "data": {
      "image/png": "[encoded data removed]",
      "text/plain": [
       "<Figure size 432x288 with 1 Axes>"
      ]
     },
     "metadata": {
      "needs_background": "light"
     },
     "output_type": "display_data"
    }
   ],
   "source": [
    "\n",
    "clf = MLP(algorithm=FixedWeigths())\n",
    "clf.fit(Xtr,ytr)\n",
    "\n",
    "\n",
    "plotDataset(Xtr,ytr)\n",
    "plotPredictions(clf,Xtr)"
   ]
  },
  {
   "cell_type": "code",
   "execution_count": 75,
   "metadata": {},
   "outputs": [
    {
     "name": "stdout",
     "output_type": "stream",
     "text": [
      "DEBUG (10000, 2)\n",
      "DEBUG (10000, 2) (100, 100) (100, 100) (100, 100)\n"
     ]
    },
    {
     "data": {
      "image/png": "[encoded data removed]",
      "text/plain": [
       "<Figure size 432x288 with 1 Axes>"
      ]
     },
     "metadata": {
      "needs_background": "light"
     },
     "output_type": "display_data"
    }
   ],
   "source": [
    "from sklearn.neighbors import KNeighborsClassifier\n",
    "\n",
    "clf = KNeighborsClassifier(n_neighbors=1)\n",
    "clf.fit(Xtr,ytr)\n",
    "\n",
    "\n",
    "plotDataset(Xtr,ytr)\n",
    "plotPredictions(clf,Xtr)"
   ]
  },
  {
   "cell_type": "code",
   "execution_count": null,
   "metadata": {},
   "outputs": [],
   "source": []
  }
 ],
 "metadata": {
  "interpreter": {
   "hash": "e95bfe4b2255473f2a45c6ffe9b8c8a9ead2e906b7de5ef868faf1253c40af40"
  },
  "kernelspec": {
   "display_name": "Python 3.9.7 ('ppcomp')",
   "language": "python",
   "name": "python3"
  },
  "language_info": {
   "codemirror_mode": {
    "name": "ipython",
    "version": 3
   },
   "file_extension": ".py",
   "mimetype": "text/x-python",
   "name": "python",
   "nbconvert_exporter": "python",
   "pygments_lexer": "ipython3",
   "version": "3.9.7"
  },
  "orig_nbformat": 4
 },
 "nbformat": 4,
 "nbformat_minor": 2
}

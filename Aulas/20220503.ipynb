{
 "cells": [
  {
   "cell_type": "code",
   "execution_count": 1,
   "metadata": {},
   "outputs": [],
   "source": [
    "import numpy as np\n",
    "import pandas as pd\n",
    "import matplotlib.pyplot as plt\n",
    "from sklearn.base import BaseEstimator,ClassifierMixin\n",
    "from sklearn.datasets import make_blobs\n",
    "from sklearn.model_selection import train_test_split\n",
    "import random\n",
    "\n",
    "DEBUG = 'DEBUG'"
   ]
  },
  {
   "cell_type": "code",
   "execution_count": 2,
   "metadata": {},
   "outputs": [],
   "source": [
    "def criaDataset(n=20,slop=[2,1],intercept=-0.4):\n",
    "  X = np.random.uniform(size=(n,2))\n",
    "  AUX = np.multiply(X,slop) - [0,intercept]\n",
    "  y = (AUX[:,0] > AUX[:,1])*2 -1\n",
    "  return X,y\n",
    "\n",
    "def criaDatasetBlobs(n=1000,n_classes=4,std=0.02):\n",
    "  X,y = make_blobs(n_samples=n,centers=n_classes,center_box=(0,1.0),cluster_std=0.02)\n",
    "  return X,y\n",
    "\n",
    "def criaDatasetXOR(n=100):\n",
    "  X,y = make_blobs(n_samples=n,centers=[[0,0],[1,0],[1,1],[0,1]],cluster_std=0.1)\n",
    "  y =np.array(y%2,dtype=int)\n",
    "  return X,y\n",
    "\n",
    "def criaDatasetNBlobsXOR(n=1000,n_classes=3,std=0.8):\n",
    "  X,y = make_blobs(n_samples=n,centers=n_classes*2,cluster_std=std)\n",
    "  y = np.array(y%n_classes,dtype=int)\n",
    "  return X,y\n",
    "\n",
    "def plotDataset(X,y):\n",
    "  plt.xlabel('X1')\n",
    "  plt.ylabel('X2')\n",
    "  for k in set(y):\n",
    "    plt.plot(X[:,0][y==k],\n",
    "             X[:,1][y==k],\n",
    "             \"o\",alpha=0.3)"
   ]
  },
  {
   "cell_type": "code",
   "execution_count": 3,
   "metadata": {},
   "outputs": [],
   "source": [
    "def define_axes(X,margin=0.1):\n",
    "  min1,max1 = X[:,0].min(), X[:,0].max()\n",
    "  min2,max2 = X[:,1].min(), X[:,1].max()\n",
    "  return [min1 -margin, max1 +margin,min2 -margin,max2 +margin]\n",
    "\n",
    "    \n",
    "\n",
    "def plotPredictions(clf,X,dims=[0,1]):\n",
    "  axes = define_axes(X)\n",
    "  x0s = np.linspace(axes[0],axes[1],100)\n",
    "  x1s = np.linspace(axes[2],axes[3],100)\n",
    "  x0,x1 = np.meshgrid(x0s,x1s)\n",
    "  X_ = np.c_[x0.ravel(),x1.ravel()]\n",
    "  print(DEBUG,X_.shape)\n",
    "  ypred = clf.predict(X_).reshape(x0.shape)\n",
    "  print(DEBUG,X_.shape,x0.shape,x1.shape,ypred.shape)\n",
    "  plt.contourf(x0,x1,ypred,cmap=plt.cm.brg,alpha=0.2)"
   ]
  },
  {
   "cell_type": "code",
   "execution_count": null,
   "metadata": {},
   "outputs": [],
   "source": []
  }
 ],
 "metadata": {
  "interpreter": {
   "hash": "e95bfe4b2255473f2a45c6ffe9b8c8a9ead2e906b7de5ef868faf1253c40af40"
  },
  "kernelspec": {
   "display_name": "Python 3.9.7 ('ppcomp')",
   "language": "python",
   "name": "python3"
  },
  "language_info": {
   "codemirror_mode": {
    "name": "ipython",
    "version": 3
   },
   "file_extension": ".py",
   "mimetype": "text/x-python",
   "name": "python",
   "nbconvert_exporter": "python",
   "pygments_lexer": "ipython3",
   "version": "3.9.7"
  },
  "orig_nbformat": 4
 },
 "nbformat": 4,
 "nbformat_minor": 2
}
